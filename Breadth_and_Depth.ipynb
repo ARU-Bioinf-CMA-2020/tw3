{
 "cells": [
  {
   "cell_type": "markdown",
   "metadata": {},
   "source": [
    "## Comparing Breadth First and Depth First Graph traversals\n",
    "\n",
    "Traversal is a posh word for visiting all the accessible vertices of a graph. In the real world the order of visits is used as a strategy for searching for items. \n",
    "\n",
    "Graphs can be most simply described by giving each node a number and then keeping track of the nodes connected to each node. One way to do this is to make a list for each node of the adjacent nodes - its adjacency list. Then the graph can be a list of these lists where the index for each adjacency list corresponds to the number of the node it belongs to. \n",
    "\n",
    "Letters for each node can be labels to help see the structure.\n",
    "\n",
    "For two nodes a (node 0) and b (node 1) connected in an undirected graph, 1 ('b') has to occur in 0's adjacency list. And 0 ('a') has to occur in 1's adjacency list. \n",
    "\n",
    "In more useful representations the nodes can be tuples with the labels explicitly associated with the numbers. But for the traversals below numbers will do as we are just interested in the order that the nodes are reported.\n",
    "\n",
    "Here is a simple diagram of an undirected graph with four nodes.\n",
    "\n",
    "    0 ('a')  1 ('b')\n",
    "         *--*\n",
    "         ¦  ¦\n",
    "         *--*\n",
    "    2 ('c')  3 ('d')\n",
    "    \n",
    "Here is a function that defines a list of the adjacency lists for this graph."
   ]
  },
  {
   "cell_type": "code",
   "execution_count": 11,
   "metadata": {},
   "outputs": [
    {
     "name": "stdout",
     "output_type": "stream",
     "text": [
      "square_graph [[1, 2], [0, 3], [0, 3], [2, 1]]\n"
     ]
    }
   ],
   "source": [
    "def supply_square_graph():\n",
    "    \"\"\" returns a list of adjacency lists for a square graph \"\"\"\n",
    "    a, b, c, d = range(4)\n",
    "    return [[b, c],  # a (0th)\n",
    "            [a, d],  # b (1st)\n",
    "            [a, d],  # c (2nd)\n",
    "            [c, b],  # d (3rd)\n",
    "           ]\n",
    "square_graph = supply_square_graph()\n",
    "print('square_graph', square_graph)"
   ]
  },
  {
   "cell_type": "markdown",
   "metadata": {},
   "source": [
    "Now can you modify the code below to give an additional diagonal edge from node 0 ('a') to node 3 ('d')?"
   ]
  },
  {
   "cell_type": "code",
   "execution_count": 12,
   "metadata": {},
   "outputs": [
    {
     "name": "stdout",
     "output_type": "stream",
     "text": [
      "diagonal graph [[1, 2], [0, 3], [0, 3], [2, 1]]\n"
     ]
    }
   ],
   "source": [
    "def supply_diagonal_graph():\n",
    "    \"\"\" returns a list of adjacency lists for a ???????? \"\"\"\n",
    "    a, b, c, d = range(4)\n",
    "    return [[b, c],  # a (needs modifying)\n",
    "            [a, d],  # b )\n",
    "            [a, d],  # c \n",
    "            [c, b],  # d (needs modifying)\n",
    "           ]\n",
    "diagonal_graph = supply_diagonal_graph()\n",
    "print('diagonal graph', diagonal_graph)"
   ]
  },
  {
   "cell_type": "markdown",
   "metadata": {},
   "source": [
    "Remember that, in this representation of an undirected graph, the adjacency list needs *two* new adjacency values even though only one new edge is added. The function creates the values from the labels you add.\n",
    "\n",
    "Now here is a function to make the adjacency list for a slightly bigger undirected graph. "
   ]
  },
  {
   "cell_type": "code",
   "execution_count": 13,
   "metadata": {},
   "outputs": [],
   "source": [
    "def supply_new_graph():\n",
    "    \"\"\" returns an unknow graph\"\"\"\n",
    "    a, b, c, d, e, f = range(6)\n",
    "    return [[b, c],                # a\n",
    "            [a, c, d],             # b\n",
    "            [a, b, e],             # c\n",
    "            [b, e, f],             # d\n",
    "            [c, d, f],             # e\n",
    "            [d, e],                # f\n",
    "           ]\n",
    "new_graph = supply_new_graph()"
   ]
  },
  {
   "cell_type": "markdown",
   "metadata": {},
   "source": [
    "## Breadth First Traversal\n",
    "\n",
    "You could have a go at drawing `new_graph` based on the labels. \n",
    "(*hint* start with  b, c, d, and e could be a start - shown as a square similar to the example above)\n",
    "\n",
    "But a breadth first traversal of the graph is also good way to map out the connections. \n",
    "\n",
    "The version below is from *Python Algorithms* by Magnus Hetland. It uses a deque to function as a FIFO queue to store the nodes to be visited. \n",
    "\n",
    "The traversal starts from one node considered the parent and finds all the connected 'child' nodes. It makes sense to start with node 0 as first parent.\n",
    "\n",
    "In the breadth_first example the parent:child edges followed are collected as dictionary entries."
   ]
  },
  {
   "cell_type": "code",
   "execution_count": 14,
   "metadata": {},
   "outputs": [],
   "source": [
    "from collections import deque"
   ]
  },
  {
   "cell_type": "code",
   "execution_count": 23,
   "metadata": {},
   "outputs": [],
   "source": [
    "def breadth_first(G, s):\n",
    "    P, Q = {s: None}, deque([s])                # Parents and FIFO queue\n",
    "    while Q:\n",
    "        u = Q.popleft()                         # u is the first out\n",
    "        print('u', u, 'G[u]=', G[u])\n",
    "        for v in G[u]:\n",
    "            print('v', v)\n",
    "            if v in P: continue                 # Already has parent\n",
    "            P[v] = u                            # Reached from u: u is parent\n",
    "            Q.append(v)\n",
    "    return P\n"
   ]
  },
  {
   "cell_type": "code",
   "execution_count": 65,
   "metadata": {},
   "outputs": [],
   "source": [
    "def breadth_first_rewrite(graph, first_node):\n",
    "    \"\"\" returns a dictionary showing the parents for each node \"\"\"\n",
    "    parents = {first_node: None}\n",
    "    fifo_queue = deque([first_node])\n",
    "    while fifo_queue:\n",
    "        next_node = fifo_queue.popleft()\n",
    "        for child in graph[next_node]:\n",
    "            if child not in parents: # Already has parent\n",
    "                parents[child] = next_node  # reached from next_node so next node is its parent\n",
    "                fifo_queue.append(child)\n",
    "    return parents"
   ]
  },
  {
   "cell_type": "markdown",
   "metadata": {},
   "source": [
    "Run the new_graph function to make the adjacency list for the graph. Then run the breadth_first function to get the dictionary that gives you the parent child connections.\n",
    "\n",
    "Now is a good time to check your picture of the graph or make one based on the connections obtained. \n",
    "\n",
    "Focussing on the keys ('parents') shows how the algorithm has moved through the graph. "
   ]
  },
  {
   "cell_type": "code",
   "execution_count": 33,
   "metadata": {},
   "outputs": [
    {
     "data": {
      "text/plain": [
       "{0: None, 1: 0, 2: 0, 3: 1, 4: 2, 5: 3}"
      ]
     },
     "execution_count": 33,
     "metadata": {},
     "output_type": "execute_result"
    }
   ],
   "source": [
    "breadth_first_rewrite(new_graph,0)"
   ]
  },
  {
   "cell_type": "code",
   "execution_count": 30,
   "metadata": {},
   "outputs": [
    {
     "data": {
      "text/plain": [
       "{0: None, 1: 0, 2: 0, 3: 1}"
      ]
     },
     "execution_count": 30,
     "metadata": {},
     "output_type": "execute_result"
    }
   ],
   "source": [
    "breadth_first_rewrite(diagonal_graph,0)"
   ]
  },
  {
   "cell_type": "markdown",
   "metadata": {},
   "source": [
    "## Depth First Traversal\n",
    "\n",
    "Another strategy for traversal is called *depth first*. In this case the list of nodes to visit is stored using a stack. In Python a list is an efficient way to implement a stack.\n",
    "\n",
    "The visited nodes are kept here as a set to make sure they are unique. "
   ]
  },
  {
   "cell_type": "code",
   "execution_count": 16,
   "metadata": {},
   "outputs": [],
   "source": [
    "def depth_first(G, s):\n",
    "    S, Q = set(), []                            # Visited-set and queue\n",
    "    Q.append(s)                                 # We plan on visiting s\n",
    "    while Q:                                    # Planned nodes left?\n",
    "        u = Q.pop()                             # Get one\n",
    "        if u in S: continue                     # Already visited? Skip it\n",
    "        S.add(u)                                # We've visited it now\n",
    "        Q.extend(G[u])                          # Schedule all neighbors\n",
    "        yield u                                 # Report u as visited"
   ]
  },
  {
   "cell_type": "code",
   "execution_count": 61,
   "metadata": {},
   "outputs": [],
   "source": [
    "def depth_first_rewrite(graph, first_node):\n",
    "    \"\"\" \n",
    "    traverses the graph from the first node using a depth first strategy \n",
    "    returning a list of the nodes visited \n",
    "    \"\"\"\n",
    "    visited = []\n",
    "    stack = []\n",
    "    stack.append(first_node)\n",
    "    while stack:\n",
    "        next_node = stack.pop()\n",
    "        if next_node not in visited:\n",
    "            visited.append(next_node)\n",
    "            stack.extend(graph[next_node])\n",
    "    return visited"
   ]
  },
  {
   "cell_type": "markdown",
   "metadata": {},
   "source": [
    "The yield statement means the function yields values one at a time so to collect a list of the steps through the graph the function is called to populate a list.\n",
    "\n",
    "Look at the list from the previous graph."
   ]
  },
  {
   "cell_type": "code",
   "execution_count": 62,
   "metadata": {},
   "outputs": [
    {
     "data": {
      "text/plain": [
       "[0, 2, 4, 5, 3, 1]"
      ]
     },
     "execution_count": 62,
     "metadata": {},
     "output_type": "execute_result"
    }
   ],
   "source": [
    "list(depth_first(new_graph,0))"
   ]
  },
  {
   "cell_type": "code",
   "execution_count": 63,
   "metadata": {},
   "outputs": [
    {
     "data": {
      "text/plain": [
       "[0, 2, 4, 5, 3, 1]"
      ]
     },
     "execution_count": 63,
     "metadata": {},
     "output_type": "execute_result"
    }
   ],
   "source": [
    "depth_first_rewrite(new_graph,0)"
   ]
  },
  {
   "cell_type": "code",
   "execution_count": 64,
   "metadata": {},
   "outputs": [
    {
     "data": {
      "text/plain": [
       "{0: None, 1: 0, 2: 0, 4: 2, 3: 4, 5: 4}"
      ]
     },
     "execution_count": 64,
     "metadata": {},
     "output_type": "execute_result"
    }
   ],
   "source": [
    "breadth_first_rewrite(new_graph,0,breadth=False)"
   ]
  },
  {
   "cell_type": "markdown",
   "metadata": {},
   "source": [
    "Looking at the list shows how the depth first paradoxically can loop back around to nodes that by eye seem to be 'shallower' in the graph. \n",
    "\n",
    "Mark the depth-first route through your diagram in a different colour.\n",
    "\n",
    "The route loops back to nodes with lower indices because it can thread back 'up' the undirected graph. 'Reversing out' is not part of the strategy. \n",
    "\n",
    "A 'reverse out' is forced on the algorithm when there is a 'dead end'. \n",
    "\n",
    "To engineer such a 'dead end', the graph can be 'pruned' a bit.\n",
    "\n",
    "For example, you can remove all d to e and d to f links. And then re-make the depth-first list.\n",
    "\n",
    "Modify the graph below and then re-run the depth first function."
   ]
  },
  {
   "cell_type": "code",
   "execution_count": 49,
   "metadata": {},
   "outputs": [],
   "source": [
    "def supply_trimmed_graph():\n",
    "    a, b, c, d, e, f = range(6)\n",
    "    return [[b, c],                # a\n",
    "            [a, c, d],             # b\n",
    "            [a, b, e],             # c\n",
    "            [b, e, f],             # d (trim this list)\n",
    "            [c, d, f],             # e (trim this list)\n",
    "            [d, e],                # f (trim this list)\n",
    "           ]\n",
    "trimmed_graph = supply_trimmed_graph()"
   ]
  },
  {
   "cell_type": "code",
   "execution_count": 50,
   "metadata": {},
   "outputs": [],
   "source": [
    "def supply_trimmed_graph():\n",
    "    a, b, c, d, e, f = range(6)\n",
    "    return [[b, c],                # a\n",
    "            [a, c, d],             # b\n",
    "            [a, b, e],             # c\n",
    "            [b],             # d (trim this list)\n",
    "            [c, f],             # e (trim this list)\n",
    "            [e],                # f (trim this list)\n",
    "           ]\n",
    "trimmed_graph = supply_trimmed_graph()"
   ]
  },
  {
   "cell_type": "code",
   "execution_count": 51,
   "metadata": {},
   "outputs": [
    {
     "data": {
      "text/plain": [
       "[0, 2, 4, 5, 1, 3]"
      ]
     },
     "execution_count": 51,
     "metadata": {},
     "output_type": "execute_result"
    }
   ],
   "source": [
    "list(depth_first(trimmed_graph,0))"
   ]
  },
  {
   "cell_type": "markdown",
   "metadata": {},
   "source": [
    "Make a diagram of the new graph and the new depth-first traversal "
   ]
  },
  {
   "cell_type": "markdown",
   "metadata": {},
   "source": [
    "Reference:\n",
    "Magnus Hetland (2014) *Python Algorithms* Chapter 2 and Chapter 5."
   ]
  },
  {
   "cell_type": "markdown",
   "metadata": {},
   "source": [
    "# drawing graphs"
   ]
  },
  {
   "cell_type": "code",
   "execution_count": 56,
   "metadata": {},
   "outputs": [],
   "source": [
    "import numpy as np\n",
    "import networkx as nx\n",
    "import matplotlib.pyplot as plt\n",
    "from string import ascii_lowercase\n",
    "%matplotlib inline\n",
    "def draw_graph(graph_list):\n",
    "    nx_graph  = nx.Graph()\n",
    "    labels = {}\n",
    "    for count, letter in enumerate(ascii_lowercase[:len(graph_list)]):\n",
    "        nx_graph.add_node(count)\n",
    "        labels[count] = f'{letter} {count}'\n",
    "    for count, edges in enumerate(graph_list):\n",
    "        for edge in edges:\n",
    "            nx_graph.add_edge(count, edge)\n",
    "    print('nodes', nx_graph.nodes)\n",
    "    print('edges', nx_graph.edges)\n",
    "    nx.draw(nx_graph, with_labels=True, labels=labels)\n",
    "    plt.show()"
   ]
  },
  {
   "cell_type": "code",
   "execution_count": 59,
   "metadata": {},
   "outputs": [
    {
     "name": "stdout",
     "output_type": "stream",
     "text": [
      "nodes [0, 1, 2, 3, 4, 5]\n",
      "edges [(0, 1), (0, 2), (1, 2), (1, 3), (2, 4), (3, 4), (3, 5), (4, 5)]\n"
     ]
    },
    {
     "data": {
      "image/png": "[encoded data removed]",
      "text/plain": [
       "<Figure size 432x288 with 1 Axes>"
      ]
     },
     "metadata": {},
     "output_type": "display_data"
    }
   ],
   "source": [
    "draw_graph(new_graph)"
   ]
  },
  {
   "cell_type": "code",
   "execution_count": 60,
   "metadata": {},
   "outputs": [
    {
     "name": "stdout",
     "output_type": "stream",
     "text": [
      "nodes [0, 1, 2, 3, 4, 5]\n",
      "edges [(0, 1), (0, 2), (1, 2), (1, 3), (2, 4), (4, 5)]\n"
     ]
    },
    {
     "data": {
      "image/png": "[encoded data removed]",
      "text/plain": [
       "<Figure size 432x288 with 1 Axes>"
      ]
     },
     "metadata": {},
     "output_type": "display_data"
    }
   ],
   "source": [
    "draw_graph(trimmed_graph)"
   ]
  },
  {
   "cell_type": "code",
   "execution_count": null,
   "metadata": {},
   "outputs": [],
   "source": []
  }
 ],
 "metadata": {
  "kernelspec": {
   "display_name": "Python 3",
   "language": "python",
   "name": "python3"
  },
  "language_info": {
   "codemirror_mode": {
    "name": "ipython",
    "version": 3
   },
   "file_extension": ".py",
   "mimetype": "text/x-python",
   "name": "python",
   "nbconvert_exporter": "python",
   "pygments_lexer": "ipython3",
   "version": "3.7.4"
  }
 },
 "nbformat": 4,
 "nbformat_minor": 2
}
