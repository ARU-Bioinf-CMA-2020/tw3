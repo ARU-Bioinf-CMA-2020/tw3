{
 "cells": [
  {
   "cell_type": "markdown",
   "metadata": {},
   "source": [
    "# Using a Priority Queue for Dijkstra's Algorithm\n",
    "\n",
    "A priority queue can be implemented using a heap. This can then be used to control the search for the shortest route through a weighted directed graph.\n",
    "Networkx and matplotlib are needed only for making the diagram of the graph. The % line is the 'magic' for including matplotlib figures."
   ]
  },
  {
   "cell_type": "code",
   "execution_count": 1,
   "metadata": {},
   "outputs": [],
   "source": [
    "import numpy as np\n",
    "import networkx as nx\n",
    "import matplotlib.pyplot as plt\n",
    "%matplotlib inline"
   ]
  },
  {
   "cell_type": "markdown",
   "metadata": {},
   "source": [
    "Here is the heap for priority queue."
   ]
  },
  {
   "cell_type": "code",
   "execution_count": 2,
   "metadata": {},
   "outputs": [],
   "source": [
    "from heapq import heapify, heappop, heappush\n",
    "\n",
    "class priority_queue():\n",
    "    def __init__(heap):\n",
    "        heap.queue = list()\n",
    "        heapify(heap.queue)\n",
    "        heap.index = dict()\n",
    "    def push(heap, priority, label):\n",
    "        if label in heap.index:\n",
    "            heap.queue = [(a,b) \n",
    "                          for a,b in heap.queue if b!=label]\n",
    "            heapify(heap.queue)\n",
    "        heappush(heap.queue, (priority, label))\n",
    "        heap.index[label] = priority \n",
    "    def pop(heap):\n",
    "        if heap.queue:\n",
    "            return heappop(heap.queue)\n",
    "    def __contains__(heap, label):\n",
    "        return label in heap.index\n",
    "    def __len__(heap):\n",
    "        return len(heap.queue)"
   ]
  },
  {
   "cell_type": "markdown",
   "metadata": {},
   "source": [
    "Here is a graph for testing the algorithm expressed as as dictionary entries."
   ]
  },
  {
   "cell_type": "code",
   "execution_count": 44,
   "metadata": {},
   "outputs": [],
   "source": [
    "graph = {'i': {'j':5, 'k':6},\n",
    "         'j': {'k':5, 'l':5},\n",
    "         'k': {'l':6, 'm':5},\n",
    "         'l': {'n':6},\n",
    "         'm': {'l':4,'n':4},\n",
    "         'n': {}}"
   ]
  },
  {
   "cell_type": "markdown",
   "metadata": {},
   "source": [
    "For matplotlib, here is a copy of the graph made in Networkx. As there are directions to the edges a DiGraph is used. The weights are also added as the edges are created from the graph dictionary."
   ]
  },
  {
   "cell_type": "code",
   "execution_count": 27,
   "metadata": {},
   "outputs": [],
   "source": [
    "D = nx.DiGraph()\n",
    "for node in graph:\n",
    "    D.add_nodes_from(node)\n",
    "    for edge, weight in graph[node].items():\n",
    "        D.add_edge(node,edge, weight=weight)"
   ]
  },
  {
   "cell_type": "code",
   "execution_count": 33,
   "metadata": {},
   "outputs": [
    {
     "name": "stdout",
     "output_type": "stream",
     "text": [
      "['i', 'j', 'k', 'l', 'm', 'n']\n"
     ]
    }
   ],
   "source": [
    "print(D.nodes)"
   ]
  },
  {
   "cell_type": "code",
   "execution_count": 28,
   "metadata": {},
   "outputs": [
    {
     "name": "stdout",
     "output_type": "stream",
     "text": [
      "[('i', 'j'), ('i', 'k'), ('j', 'k'), ('j', 'l'), ('k', 'l'), ('k', 'm'), ('l', 'n'), ('m', 'l'), ('m', 'n')]\n"
     ]
    }
   ],
   "source": [
    "print(D.edges)"
   ]
  },
  {
   "cell_type": "markdown",
   "metadata": {},
   "source": [
    "Here is the Networkx diagram of the graph. Although it is not topologically sorted. \n",
    "\n",
    "Other layouts are available instead of circular including 'random' and 'spring' (which lets the vertices cluster as if the edgea were under tension like small springs)."
   ]
  },
  {
   "cell_type": "code",
   "execution_count": 39,
   "metadata": {},
   "outputs": [
    {
     "data": {
      "image/png": "[encoded data removed]",
      "text/plain": [
       "<Figure size 432x288 with 1 Axes>"
      ]
     },
     "metadata": {},
     "output_type": "display_data"
    }
   ],
   "source": [
    "nx.draw(D, pos=nx.circular_layout(D), with_labels=True)\n",
    "plt.show()"
   ]
  },
  {
   "cell_type": "markdown",
   "metadata": {},
   "source": [
    "The priority queue can be used to control a search of a graph using Dijkstra's algorithm."
   ]
  },
  {
   "cell_type": "code",
   "execution_count": 46,
   "metadata": {},
   "outputs": [],
   "source": [
    "def dijkstra(graph, source, finish):\n",
    "    inf = float('inf')\n",
    "    known = set()\n",
    "    priority = priority_queue()\n",
    "    path = {source: source}\n",
    "\n",
    "    for vertex in graph:\n",
    "        if vertex == source:\n",
    "            priority.push(0, vertex)\n",
    "        else:\n",
    "            priority.push(inf, vertex)\n",
    "\n",
    "    last = source    \n",
    "    while last != finish:\n",
    "        (weight, current_node) = priority.pop()\n",
    "        if current_node not in known:\n",
    "            for next_node in graph[current_node]:\n",
    "                upto_current = priority.index[current_node]\n",
    "                upto_next = priority.index[next_node]\n",
    "                to_next = upto_current + \\\n",
    "                graph[current_node][next_node]\n",
    "                if to_next < upto_next:\n",
    "                    priority.push(to_next, next_node)\n",
    "                    print(\"updating shortest from %s to %s\" \n",
    "                          % (current_node, next_node))\n",
    "                    print (\"total distance: %i\" \n",
    "                           % to_next)\n",
    "                    path[next_node] = current_node\n",
    "                    \n",
    "            last = current_node\n",
    "            known.add(current_node)\n",
    "    \n",
    "    return priority.index, path"
   ]
  },
  {
   "cell_type": "markdown",
   "metadata": {},
   "source": [
    "Here is the dijkstra search applied to the graph defined earlier. \n",
    "\n",
    "The source is *i* and the finish is *n* - as can be seen in the Networkx copy based on the out-degree and in-degree values for these vertices. \n",
    "\n",
    "When a new 'shortcut' is discovered in the run then the shortest path is updated. "
   ]
  },
  {
   "cell_type": "code",
   "execution_count": 47,
   "metadata": {},
   "outputs": [
    {
     "name": "stdout",
     "output_type": "stream",
     "text": [
      "updating shortest from i to j\n",
      "total distance: 5\n",
      "updating shortest from i to k\n",
      "total distance: 6\n",
      "updating shortest from j to l\n",
      "total distance: 10\n",
      "updating shortest from k to m\n",
      "total distance: 11\n",
      "updating shortest from l to n\n",
      "total distance: 16\n",
      "updating shortest from m to n\n",
      "total distance: 15\n"
     ]
    }
   ],
   "source": [
    "dist, path = dijkstra(graph, 'i', 'n')"
   ]
  }
 ],
 "metadata": {
  "kernelspec": {
   "display_name": "Python 3",
   "language": "python",
   "name": "python3"
  },
  "language_info": {
   "codemirror_mode": {
    "name": "ipython",
    "version": 3
   },
   "file_extension": ".py",
   "mimetype": "text/x-python",
   "name": "python",
   "nbconvert_exporter": "python",
   "pygments_lexer": "ipython3",
   "version": "3.7.4"
  }
 },
 "nbformat": 4,
 "nbformat_minor": 2
}
