{
 "cells": [
  {
   "cell_type": "markdown",
   "metadata": {},
   "source": [
    "# Dijkstra's Algorithm from Grokking Algorithms \n",
    "\n",
    "Here is the code for the Dijkstra Algorithm example as given in the Grokking Algorithm's book. It is taken from the Manning Publisher website. https://www.manning.com/books/grokking-algorithms. "
   ]
  },
  {
   "cell_type": "code",
   "execution_count": 1,
   "metadata": {},
   "outputs": [
    {
     "ename": "SyntaxError",
     "evalue": "Missing parentheses in call to 'print'. Did you mean print(\"Cost from the start to each node:\")? (<ipython-input-1-d4cf549ef5b9>, line 64)",
     "output_type": "error",
     "traceback": [
      "\u001b[0;36m  File \u001b[0;32m\"<ipython-input-1-d4cf549ef5b9>\"\u001b[0;36m, line \u001b[0;32m64\u001b[0m\n\u001b[0;31m    print \"Cost from the start to each node:\"\u001b[0m\n\u001b[0m                                            ^\u001b[0m\n\u001b[0;31mSyntaxError\u001b[0m\u001b[0;31m:\u001b[0m Missing parentheses in call to 'print'. Did you mean print(\"Cost from the start to each node:\")?\n"
     ]
    }
   ],
   "source": [
    "# the graph\n",
    "graph = {}\n",
    "graph[\"start\"] = {}\n",
    "graph[\"start\"][\"a\"] = 6\n",
    "graph[\"start\"][\"b\"] = 2\n",
    "\n",
    "graph[\"a\"] = {}\n",
    "graph[\"a\"][\"fin\"] = 1\n",
    "\n",
    "graph[\"b\"] = {}\n",
    "graph[\"b\"][\"a\"] = 3\n",
    "graph[\"b\"][\"fin\"] = 5\n",
    "\n",
    "graph[\"fin\"] = {}\n",
    "\n",
    "# the costs table\n",
    "infinity = float(\"inf\")\n",
    "costs = {}\n",
    "costs[\"a\"] = 6\n",
    "costs[\"b\"] = 2\n",
    "costs[\"fin\"] = infinity\n",
    "\n",
    "# the parents table\n",
    "parents = {}\n",
    "parents[\"a\"] = \"start\"\n",
    "parents[\"b\"] = \"start\"\n",
    "parents[\"fin\"] = None\n",
    "\n",
    "processed = []\n",
    "\n",
    "def find_lowest_cost_node(costs):\n",
    "    lowest_cost = float(\"inf\")\n",
    "    lowest_cost_node = None\n",
    "    # Go through each node.\n",
    "    for node in costs:\n",
    "        cost = costs[node]\n",
    "        # If it's the lowest cost so far and hasn't been processed yet...\n",
    "        if cost < lowest_cost and node not in processed:\n",
    "            # ... set it as the new lowest-cost node.\n",
    "            lowest_cost = cost\n",
    "            lowest_cost_node = node\n",
    "    return lowest_cost_node\n",
    "\n",
    "# Find the lowest-cost node that you haven't processed yet.\n",
    "node = find_lowest_cost_node(costs)\n",
    "# If you've processed all the nodes, this while loop is done.\n",
    "while node is not None:\n",
    "    cost = costs[node]\n",
    "    # Go through all the neighbors of this node.\n",
    "    neighbors = graph[node]\n",
    "    for n in neighbors.keys():\n",
    "        new_cost = cost + neighbors[n]\n",
    "        # If it's cheaper to get to this neighbor by going through this node...\n",
    "        if costs[n] > new_cost:\n",
    "            # ... update the cost for this node.\n",
    "            costs[n] = new_cost\n",
    "            # This node becomes the new parent for this neighbor.\n",
    "            parents[n] = node\n",
    "    # Mark the node as processed.\n",
    "    processed.append(node)\n",
    "    # Find the next node to process, and loop.\n",
    "    node = find_lowest_cost_node(costs)\n",
    "\n",
    "print \"Cost from the start to each node:\"\n",
    "print costs\n",
    "\n"
   ]
  },
  {
   "cell_type": "code",
   "execution_count": null,
   "metadata": {},
   "outputs": [],
   "source": []
  }
 ],
 "metadata": {
  "kernelspec": {
   "display_name": "Python 3",
   "language": "python",
   "name": "python3"
  },
  "language_info": {
   "codemirror_mode": {
    "name": "ipython",
    "version": 3
   },
   "file_extension": ".py",
   "mimetype": "text/x-python",
   "name": "python",
   "nbconvert_exporter": "python",
   "pygments_lexer": "ipython3",
   "version": "3.7.4"
  }
 },
 "nbformat": 4,
 "nbformat_minor": 2
}
